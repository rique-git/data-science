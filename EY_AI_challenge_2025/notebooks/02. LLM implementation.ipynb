{
 "cells": [
  {
   "cell_type": "markdown",
   "id": "49b13394",
   "metadata": {},
   "source": [
    "# EY AI challenge 2025 - CV analyzer bot"
   ]
  },
  {
   "cell_type": "markdown",
   "id": "b4507a11",
   "metadata": {},
   "source": [
    "## Imports"
   ]
  },
  {
   "cell_type": "code",
   "execution_count": 53,
   "id": "dacd1b17",
   "metadata": {},
   "outputs": [],
   "source": [
    "import pandas as pd\n",
    "from PyPDF2 import PdfReader\n",
    "import os\n",
    "import re\n",
    "\n",
    "from langchain_google_genai import ChatGoogleGenerativeAI\n",
    "from langchain_core.prompts import ChatPromptTemplate\n",
    "from langchain_core.output_parsers import StrOutputParser\n",
    "import json\n",
    "import time"
   ]
  },
  {
   "cell_type": "markdown",
   "id": "f74b9587",
   "metadata": {},
   "source": [
    "## Define model"
   ]
  },
  {
   "cell_type": "code",
   "execution_count": null,
   "id": "951c37bb",
   "metadata": {},
   "outputs": [],
   "source": [
    "os.environ[\"GOOGLE_API_KEY\"] = \"censored\"\n"
   ]
  },
  {
   "cell_type": "code",
   "execution_count": 55,
   "id": "4421e6f4",
   "metadata": {},
   "outputs": [],
   "source": [
    "llm = ChatGoogleGenerativeAI(\n",
    "    model=\"gemini-2.0-flash\",\n",
    "    temperature=0,\n",
    "    max_tokens=None,\n",
    "    timeout=None,\n",
    "    max_retries=2,\n",
    "    # other params...\n",
    ")"
   ]
  },
  {
   "cell_type": "code",
   "execution_count": 56,
   "id": "10abba02",
   "metadata": {},
   "outputs": [],
   "source": [
    "# Define prompt\n",
    "\n",
    "prompt = ChatPromptTemplate.from_messages(\n",
    "    [\n",
    "        (\n",
    "            \"system\",\n",
    "            \"You are a helpful assistant that evaluates CVs based on a job description.\\n\"\n",
    "            \"Rate the candidate on the following:\\n\"\n",
    "            \"- Experience: 0 to 60\\n\"\n",
    "            \"- Education: 0 to 30\\n\"\n",
    "            \"- Location Fit: 0 to 10 (considering porto-lisbon is a 5, lisbon-lisbon or porto-porto would be a 10, lisbon-bangkok would be a 0)\\n\"\n",
    "            \"- Overall: sum of the above (0 to 100)\\n\\n\"\n",
    "            \"Respond ONLY in JSON format as:\\n\"\n",
    "            \"{{\\n\"\n",
    "            \"  \\\"experience\\\": <int>,\\n\"\n",
    "            \"  \\\"education\\\": <int>,\\n\"\n",
    "            \"  \\\"location\\\": <int>,\\n\"\n",
    "            \"  \\\"overall\\\": <int>\\n\"\n",
    "            \"}}\"\n",
    "        ),\n",
    "        (\"human\", \"Job description:\\n{job_description}\\n\\nCV:\\n{cv}\"),\n",
    "    ]\n",
    ")\n",
    "\n",
    "# Define chain\n",
    "chain = prompt | llm | StrOutputParser()"
   ]
  },
  {
   "cell_type": "markdown",
   "id": "e0c5f0e5",
   "metadata": {},
   "source": [
    "## Read dataset"
   ]
  },
  {
   "cell_type": "code",
   "execution_count": 57,
   "id": "d3d6dbd5",
   "metadata": {},
   "outputs": [],
   "source": [
    "\n",
    "cv_folder = \"../CVs/\"\n",
    "cv_files = [f for f in os.listdir(cv_folder) if f.endswith(\".pdf\")]\n",
    "\n",
    "cvs = []\n",
    "\n",
    "for file in cv_files:\n",
    "    path = os.path.join(cv_folder, file)\n",
    "    reader = PdfReader(path)\n",
    "    text = \"\".join([page.extract_text() or \"\" for page in reader.pages])\n",
    "    cvs.append({\n",
    "        \"name\": os.path.splitext(file)[0],  # e.g., \"cv_1\"\n",
    "        \"cv\": text.strip()\n",
    "    })"
   ]
  },
  {
   "cell_type": "code",
   "execution_count": 58,
   "id": "6938ffe9",
   "metadata": {},
   "outputs": [
    {
     "data": {
      "text/plain": [
       "{'name': 'cv_47',\n",
       " 'cv': 'cv_47.md 2025-05-02\\n1 / 2Helena Santos\\nTitle:  Healthcare Consultant\\nLocation:  Porto, P ortugal\\nEmail:  helena.santos@example.com\\nPhone:  +351 912 345 678\\nSummary\\nHealthcare professional with background in hospital administration and 5 years of experience in healthcare\\noperations improvement. Expertise in process optimization, quality management, and healthcare analytics.\\nSeeking to leverage industry knowledge in a Big4 healthcare consulting practice.\\nExperience\\nHospital de São Jo ão – P orto\\nOperations Manager\\nMay 2021 – Present\\nLed operational excellence initiatives resulting in 15% reduction in patient waiting times.\\nImplemented quality management systems aligned with international healthcare standards.\\nManaged cross-functional teams to improve resource allocation and department coordination.\\nCUF Hospitals – Lisbon\\nHealthcare Analyst\\nFebruary 2019 – April 2021\\nConducted performance analyses of clinical departments to identify improvement opportunities.\\nDeveloped KPI dashboards to monitor healthcare quality metrics and patient outcomes.\\nParticipated in cost reduction initiatives resulting in 10% savings in operational expenses.\\nEducation\\nPorto Business School – P orto\\nMBA in Healthcare Management\\n2017 – 2019\\nUniv ersity o f Porto – P orto\\nBSc in Biomedical Sciences\\n2014 – 2017\\nSkills\\nHealthcare operations managementcv_47.md 2025-05-02\\n2 / 2Quality management systems\\nHealthcare analytics\\nProcess optimization methodologies\\nPortuguese (native), English (fluent), French (basic)\\nPatient-centered care approach'}"
      ]
     },
     "execution_count": 58,
     "metadata": {},
     "output_type": "execute_result"
    }
   ],
   "source": [
    "cvs[0]"
   ]
  },
  {
   "cell_type": "code",
   "execution_count": 59,
   "id": "55800541",
   "metadata": {},
   "outputs": [],
   "source": [
    "\n",
    "job_folder = \"../JobDescriptions/\"\n",
    "job_files = [f for f in os.listdir(job_folder) if f.endswith(\".pdf\")]\n",
    "\n",
    "jobs = []\n",
    "\n",
    "for file in job_files:\n",
    "\n",
    "    path = os.path.join(job_folder, file)\n",
    "    reader = PdfReader(path)\n",
    "    text = \"\".join([page.extract_text() or \"\" for page in reader.pages])\n",
    "    jobs.append({\n",
    "        \"name\": os.path.splitext(file)[0],  # e.g., \"cv_1\"\n",
    "        \"description\": text.strip()\n",
    "    })"
   ]
  },
  {
   "cell_type": "code",
   "execution_count": 60,
   "id": "fb169026",
   "metadata": {},
   "outputs": [
    {
     "data": {
      "text/plain": [
       "[{'name': 'JobDescription4',\n",
       "  'description': \"Financial Analyst  \\nLocation: Lisbon, Portugal  \\nDepartment: Financial Services  \\nExperience Level: Staff  \\n \\nAbout the Role:  \\nJoin our Financial Services team as a Financial Analyst. You will support \\nfinancial planning and analysis activities, providing insights to drive \\nbusiness performance.  \\n \\nKey Responsibilities:  \\n \\nAssist in the preparation of financial reports and forecasts.  \\nAnalyze financial data to identify trends and variances.  \\nCollaborate with business units to support decision -making. \\nEnsure compliance with financial regulations and standards.  \\nSupport ad -hoc financial analysis and projects.  \\nRequirements:  \\n \\nBachelor's degree in Finance, Accounting, or related field.  \\n0-2 years of experience in financial analysis or related roles.  \\nStrong analytical and quantitative skills.  \\nProficiency in Excel and financial modeling.  \\nFluency in English and Portuguese required.\"},\n",
       " {'name': 'JobDescription1',\n",
       "  'description': 'Directors, Data & AI Strategy  \\nLocation: Lisbon, Portugal  \\nDepartment: Consulting  \\nExperience Level: Director (15+ years)  \\n \\nAbout the Role:  \\nEY Portugal is seeking two experienced Directors to lead our Data & AI \\nStrategy practice. The successful candidates will drive complex digital \\ntransformation initiatives for our clients, focusing on enterprise data \\nstrategy, AI governance, and advanced ana lytics solutions. This role \\nrequires strategic thinkers who can translate business objectives into \\nactionable data frameworks and deliver measurable outcomes.  \\n \\nKey Responsibilities:  \\n \\nLead enterprise -wide data transformation and AI implementation programs \\nfor major clients across industries.  \\nDevelop AI governance frameworks addressing ethical considerations, \\nalgorithmic fairness, and regulatory compliance.  \\nDesign and implement data warehousing and analytics architectures using \\ncloud platforms like Azure and AWS.  \\nBuild and manage cross -functional teams of data scientists, engineers, \\nand business analysts.  \\nFoster executive -level relationships and serve as trusted advisors on \\ndata strategy and AI implementation.  \\nContribute to business development through proposal creation and client \\npresentations.  \\nStay current with emerging trends in AI, machine learning, and data \\ngovernance.  \\nRequirements:  \\n \\n15+ years of experience in data strategy, business intelligence, and \\nAI/ML implementation.  \\nProven track record in delivering large -scale digital transformation \\ninitiatives.  \\nExperience building and implementing enterprise data governance \\nframeworks.  \\nStrong technical understanding of data platforms and AI/ML technologies.  \\nExcellent communication skills with the ability to influence at the C -\\nsuite level.  \\nExperience in multiple industries, preferably including financial \\nservices.  \\nRelevant certifications (e.g., Microsoft AI, AWS, PMI) preferred.  \\nFluency in English and Portuguese required.'}]"
      ]
     },
     "execution_count": 60,
     "metadata": {},
     "output_type": "execute_result"
    }
   ],
   "source": [
    "jobs[:2]"
   ]
  },
  {
   "cell_type": "markdown",
   "id": "73b9fefd",
   "metadata": {},
   "source": [
    "## Create data"
   ]
  },
  {
   "cell_type": "code",
   "execution_count": 61,
   "id": "36319239",
   "metadata": {},
   "outputs": [
    {
     "name": "stdout",
     "output_type": "stream",
     "text": [
      "evaluating candidate cv_47 for job JobDescription4\n",
      "evaluating candidate cv_103 for job JobDescription4\n",
      "evaluating candidate cv_87 for job JobDescription4\n",
      "evaluating candidate cv_69 for job JobDescription4\n",
      "evaluating candidate cv_94 for job JobDescription4\n",
      "evaluating candidate cv_79 for job JobDescription4\n",
      "evaluating candidate cv_38 for job JobDescription4\n",
      "evaluating candidate cv_90 for job JobDescription4\n",
      "evaluating candidate cv_105 for job JobDescription4\n",
      "evaluating candidate cv_35 for job JobDescription4\n",
      "evaluating candidate cv_18 for job JobDescription4\n",
      "evaluating candidate cv_63 for job JobDescription4\n",
      "evaluating candidate cv_49 for job JobDescription4\n",
      "evaluating candidate cv_5 for job JobDescription4\n",
      "evaluating candidate cv_74 for job JobDescription4\n",
      "evaluating candidate cv_72 for job JobDescription4\n"
     ]
    }
   ],
   "source": [
    "results = []\n",
    "\n",
    "for job in jobs:\n",
    "    for candidate in cvs:\n",
    "        print(\"evaluating candidate\", candidate[\"name\"], \"for job\", job[\"name\"])\n",
    "        response = chain.invoke({\"job_description\": job, \"cv\": candidate[\"cv\"]})\n",
    "\n",
    "        # Remove ```json ... ``` wrapper\n",
    "        clean_response = re.sub(r\"^```(?:json)?\\s*|```$\", \"\", response.strip(), flags=re.IGNORECASE).strip()\n",
    "\n",
    "        try:\n",
    "            parsed = json.loads(clean_response)\n",
    "        except json.JSONDecodeError:\n",
    "            parsed = {\"experience\": None, \"education\": None, \"location\": None, \"overall\": None}\n",
    "\n",
    "        results.append({\n",
    "            \"job_description\": job[\"name\"],\n",
    "            \"candidate_name\": candidate[\"name\"],\n",
    "            \"experience\": parsed[\"experience\"],\n",
    "            \"education\": parsed[\"education\"],\n",
    "            \"location\": parsed[\"location\"],\n",
    "            \"overall\": parsed[\"overall\"],\n",
    "        })\n",
    "\n",
    "        if len(results) > 15:\n",
    "            break\n",
    "    if len(results) > 15:\n",
    "            break\n",
    "\n",
    "# Create DataFrame\n",
    "df = pd.DataFrame(results)"
   ]
  },
  {
   "cell_type": "code",
   "execution_count": 62,
   "id": "96f5a31a",
   "metadata": {},
   "outputs": [
    {
     "data": {
      "text/html": [
       "<div>\n",
       "<style scoped>\n",
       "    .dataframe tbody tr th:only-of-type {\n",
       "        vertical-align: middle;\n",
       "    }\n",
       "\n",
       "    .dataframe tbody tr th {\n",
       "        vertical-align: top;\n",
       "    }\n",
       "\n",
       "    .dataframe thead th {\n",
       "        text-align: right;\n",
       "    }\n",
       "</style>\n",
       "<table border=\"1\" class=\"dataframe\">\n",
       "  <thead>\n",
       "    <tr style=\"text-align: right;\">\n",
       "      <th></th>\n",
       "      <th>job_description</th>\n",
       "      <th>candidate_name</th>\n",
       "      <th>experience</th>\n",
       "      <th>education</th>\n",
       "      <th>location</th>\n",
       "      <th>overall</th>\n",
       "    </tr>\n",
       "  </thead>\n",
       "  <tbody>\n",
       "    <tr>\n",
       "      <th>15</th>\n",
       "      <td>JobDescription4</td>\n",
       "      <td>cv_72</td>\n",
       "      <td>50</td>\n",
       "      <td>30</td>\n",
       "      <td>10</td>\n",
       "      <td>90</td>\n",
       "    </tr>\n",
       "    <tr>\n",
       "      <th>1</th>\n",
       "      <td>JobDescription4</td>\n",
       "      <td>cv_103</td>\n",
       "      <td>50</td>\n",
       "      <td>30</td>\n",
       "      <td>5</td>\n",
       "      <td>85</td>\n",
       "    </tr>\n",
       "    <tr>\n",
       "      <th>3</th>\n",
       "      <td>JobDescription4</td>\n",
       "      <td>cv_69</td>\n",
       "      <td>45</td>\n",
       "      <td>30</td>\n",
       "      <td>10</td>\n",
       "      <td>85</td>\n",
       "    </tr>\n",
       "    <tr>\n",
       "      <th>4</th>\n",
       "      <td>JobDescription4</td>\n",
       "      <td>cv_94</td>\n",
       "      <td>45</td>\n",
       "      <td>30</td>\n",
       "      <td>10</td>\n",
       "      <td>85</td>\n",
       "    </tr>\n",
       "    <tr>\n",
       "      <th>13</th>\n",
       "      <td>JobDescription4</td>\n",
       "      <td>cv_5</td>\n",
       "      <td>45</td>\n",
       "      <td>30</td>\n",
       "      <td>10</td>\n",
       "      <td>85</td>\n",
       "    </tr>\n",
       "    <tr>\n",
       "      <th>12</th>\n",
       "      <td>JobDescription4</td>\n",
       "      <td>cv_49</td>\n",
       "      <td>45</td>\n",
       "      <td>30</td>\n",
       "      <td>7</td>\n",
       "      <td>82</td>\n",
       "    </tr>\n",
       "    <tr>\n",
       "      <th>2</th>\n",
       "      <td>JobDescription4</td>\n",
       "      <td>cv_87</td>\n",
       "      <td>45</td>\n",
       "      <td>25</td>\n",
       "      <td>10</td>\n",
       "      <td>80</td>\n",
       "    </tr>\n",
       "    <tr>\n",
       "      <th>14</th>\n",
       "      <td>JobDescription4</td>\n",
       "      <td>cv_74</td>\n",
       "      <td>45</td>\n",
       "      <td>30</td>\n",
       "      <td>5</td>\n",
       "      <td>80</td>\n",
       "    </tr>\n",
       "    <tr>\n",
       "      <th>8</th>\n",
       "      <td>JobDescription4</td>\n",
       "      <td>cv_105</td>\n",
       "      <td>45</td>\n",
       "      <td>25</td>\n",
       "      <td>5</td>\n",
       "      <td>75</td>\n",
       "    </tr>\n",
       "    <tr>\n",
       "      <th>9</th>\n",
       "      <td>JobDescription4</td>\n",
       "      <td>cv_35</td>\n",
       "      <td>40</td>\n",
       "      <td>30</td>\n",
       "      <td>5</td>\n",
       "      <td>75</td>\n",
       "    </tr>\n",
       "    <tr>\n",
       "      <th>11</th>\n",
       "      <td>JobDescription4</td>\n",
       "      <td>cv_63</td>\n",
       "      <td>40</td>\n",
       "      <td>25</td>\n",
       "      <td>10</td>\n",
       "      <td>75</td>\n",
       "    </tr>\n",
       "    <tr>\n",
       "      <th>0</th>\n",
       "      <td>JobDescription4</td>\n",
       "      <td>cv_47</td>\n",
       "      <td>40</td>\n",
       "      <td>25</td>\n",
       "      <td>5</td>\n",
       "      <td>70</td>\n",
       "    </tr>\n",
       "    <tr>\n",
       "      <th>5</th>\n",
       "      <td>JobDescription4</td>\n",
       "      <td>cv_79</td>\n",
       "      <td>10</td>\n",
       "      <td>25</td>\n",
       "      <td>10</td>\n",
       "      <td>45</td>\n",
       "    </tr>\n",
       "    <tr>\n",
       "      <th>7</th>\n",
       "      <td>JobDescription4</td>\n",
       "      <td>cv_90</td>\n",
       "      <td>0</td>\n",
       "      <td>30</td>\n",
       "      <td>10</td>\n",
       "      <td>40</td>\n",
       "    </tr>\n",
       "    <tr>\n",
       "      <th>6</th>\n",
       "      <td>JobDescription4</td>\n",
       "      <td>cv_38</td>\n",
       "      <td>5</td>\n",
       "      <td>5</td>\n",
       "      <td>3</td>\n",
       "      <td>13</td>\n",
       "    </tr>\n",
       "    <tr>\n",
       "      <th>10</th>\n",
       "      <td>JobDescription4</td>\n",
       "      <td>cv_18</td>\n",
       "      <td>0</td>\n",
       "      <td>0</td>\n",
       "      <td>5</td>\n",
       "      <td>5</td>\n",
       "    </tr>\n",
       "  </tbody>\n",
       "</table>\n",
       "</div>"
      ],
      "text/plain": [
       "    job_description candidate_name  experience  education  location  overall\n",
       "15  JobDescription4          cv_72          50         30        10       90\n",
       "1   JobDescription4         cv_103          50         30         5       85\n",
       "3   JobDescription4          cv_69          45         30        10       85\n",
       "4   JobDescription4          cv_94          45         30        10       85\n",
       "13  JobDescription4           cv_5          45         30        10       85\n",
       "12  JobDescription4          cv_49          45         30         7       82\n",
       "2   JobDescription4          cv_87          45         25        10       80\n",
       "14  JobDescription4          cv_74          45         30         5       80\n",
       "8   JobDescription4         cv_105          45         25         5       75\n",
       "9   JobDescription4          cv_35          40         30         5       75\n",
       "11  JobDescription4          cv_63          40         25        10       75\n",
       "0   JobDescription4          cv_47          40         25         5       70\n",
       "5   JobDescription4          cv_79          10         25        10       45\n",
       "7   JobDescription4          cv_90           0         30        10       40\n",
       "6   JobDescription4          cv_38           5          5         3       13\n",
       "10  JobDescription4          cv_18           0          0         5        5"
      ]
     },
     "execution_count": 62,
     "metadata": {},
     "output_type": "execute_result"
    }
   ],
   "source": [
    "df.sort_values(ascending=False, by=\"overall\")"
   ]
  }
 ],
 "metadata": {
  "kernelspec": {
   "display_name": "Python 3",
   "language": "python",
   "name": "python3"
  },
  "language_info": {
   "codemirror_mode": {
    "name": "ipython",
    "version": 3
   },
   "file_extension": ".py",
   "mimetype": "text/x-python",
   "name": "python",
   "nbconvert_exporter": "python",
   "pygments_lexer": "ipython3",
   "version": "3.10.12"
  }
 },
 "nbformat": 4,
 "nbformat_minor": 5
}
