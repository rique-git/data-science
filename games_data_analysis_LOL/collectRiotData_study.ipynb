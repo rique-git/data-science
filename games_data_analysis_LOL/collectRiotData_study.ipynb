{
 "cells": [
  {
   "cell_type": "markdown",
   "metadata": {},
   "source": [
    "# Extracting data from Riot API"
   ]
  },
  {
   "cell_type": "code",
   "execution_count": 27,
   "metadata": {},
   "outputs": [],
   "source": [
    "api_key = \"censored\"\n"
   ]
  },
  {
   "cell_type": "code",
   "execution_count": 9,
   "metadata": {},
   "outputs": [],
   "source": [
    "SummonerV4_URL = \"https://euw1.api.riotgames.com/lol/summoner/v4/summoners/by-name/tugaman36\"\n",
    "SummonerV4_request_key = SummonerV4_URL + \"?api_key=\" + api_key"
   ]
  },
  {
   "cell_type": "code",
   "execution_count": 10,
   "metadata": {},
   "outputs": [
    {
     "data": {
      "text/plain": [
       "<Response [200]>"
      ]
     },
     "execution_count": 10,
     "metadata": {},
     "output_type": "execute_result"
    }
   ],
   "source": [
    "import requests\n",
    "\n",
    "#200 is success\n",
    "resp = requests.get(SummonerV4_request_key)\n",
    "resp"
   ]
  },
  {
   "cell_type": "code",
   "execution_count": 11,
   "metadata": {},
   "outputs": [
    {
     "data": {
      "text/plain": [
       "{'id': 'TFUWDvDKjWw-VhBciT-ZdLBxwA8Pu65e1KAtKLfSRjjOXQQ',\n",
       " 'accountId': 'Z_WMfeK8Tgccyz-GDT_7R-mTseR2JaWZw0q8eqcC7gWCJzQ',\n",
       " 'puuid': '_G2gRRCcbjdmZD1a54PdNPQl7zTSrbHsujrLJRwUAu50GKwvr44eARdP20y22sIxVeP0_YD0Ydyflw',\n",
       " 'name': 'tugaman36',\n",
       " 'profileIconId': 3505,\n",
       " 'revisionDate': 1702355226240,\n",
       " 'summonerLevel': 526}"
      ]
     },
     "execution_count": 11,
     "metadata": {},
     "output_type": "execute_result"
    }
   ],
   "source": [
    "player_info = resp.json()\n",
    "player_info"
   ]
  },
  {
   "cell_type": "code",
   "execution_count": 12,
   "metadata": {},
   "outputs": [
    {
     "data": {
      "text/plain": [
       "'_G2gRRCcbjdmZD1a54PdNPQl7zTSrbHsujrLJRwUAu50GKwvr44eARdP20y22sIxVeP0_YD0Ydyflw'"
      ]
     },
     "execution_count": 12,
     "metadata": {},
     "output_type": "execute_result"
    }
   ],
   "source": [
    "player_puuid = player_info[\"puuid\"]\n",
    "player_puuid"
   ]
  },
  {
   "cell_type": "code",
   "execution_count": 13,
   "metadata": {},
   "outputs": [
    {
     "data": {
      "text/plain": [
       "<Response [200]>"
      ]
     },
     "execution_count": 13,
     "metadata": {},
     "output_type": "execute_result"
    }
   ],
   "source": [
    "request_match_api = \"https://europe.api.riotgames.com/lol/match/v5/matches/by-puuid/_G2gRRCcbjdmZD1a54PdNPQl7zTSrbHsujrLJRwUAu50GKwvr44eARdP20y22sIxVeP0_YD0Ydyflw/ids?start=0&count=100\"\n",
    "matchV5_request_key = request_match_api + \"&api_key=\" + api_key\n",
    "resp = requests.get(matchV5_request_key)\n",
    "resp"
   ]
  },
  {
   "cell_type": "code",
   "execution_count": 14,
   "metadata": {},
   "outputs": [
    {
     "data": {
      "text/plain": [
       "'EUW1_6716214316'"
      ]
     },
     "execution_count": 14,
     "metadata": {},
     "output_type": "execute_result"
    }
   ],
   "source": [
    "matches_ids = resp.json()\n",
    "matches_ids[0]"
   ]
  },
  {
   "cell_type": "code",
   "execution_count": 15,
   "metadata": {},
   "outputs": [],
   "source": [
    "games_info = []\n",
    "for match_id in matches_ids[:1]:\n",
    "    request_match_link = \"https://europe.api.riotgames.com/lol/match/v5/matches/\" + match_id + \"?api_key=\" + api_key\n",
    "    games_info.append(requests.get(request_match_link))"
   ]
  },
  {
   "cell_type": "code",
   "execution_count": 16,
   "metadata": {},
   "outputs": [
    {
     "name": "stdout",
     "output_type": "stream",
     "text": [
      "{'metadata': {'dataVersion': '2', 'matchId': 'EUW1_6716214316', 'participants': ['ya5-R1BFJY40JPaz3f5m6pAvgfmLqDWg04ZYXPplXAUnq7wyaIVe3FA-MD1oltS8CQ1SmSBJIY2tcA', 'oO4PDLUOhtRuXk1niMGMhsEdQ_AYBumGSt8ypgLTK_-MTMREKjsI0Ow_G85F0f5ToFJ4QGOfwYd3rA', '-qT9nEaQW8hpCYrHvHzk09TdgnxpddYEk_Ue1u5DUGNfpqLdKRzOEvfj6GV0mB7whrKEA5lwpTVsaw', '_G2gRRCcbjdmZD1a54PdNPQl7zTSrbHsujrLJRwUAu50GKwvr44eARdP20y22sIxVeP0_YD0Ydyflw', 'yIqiqA9PRjaqViM1RaQ0uzGxBeZ5Wzse5HZqwsyYH5zFIo8NNOvnjVOYlgjhVN_XzdjPKt8G1CCL9w', 'mLF5WglPOnHNsKQ11OanwJLKwNw2JqXZ6JvWP9PyQKPfmYBzcc6-olhTCAAnEZkGw-Fshi7bSOr05Q', 'tE6JBy56jmNL99zvh2mNaJ_80IgDwD73_hlJgHiyn5QATkIuwdw3z7AKQzuz9bFb3pR3Et9RF7bm7Q', '9Y3WhKRvUtKverrxkHby_SRvCG957VUsMw8DoOtw5KErWlQZwNBVTejvqcc5tSI7XdZbZrMrsHdbTg', 'pYmy69iuitiRsBt2NnocjDCGQOsamt3kWK515QyNrdvw3d27yTb-VgQrOMecLwQYAxkdYfpLMj3IBw', 'XX_sssDovIbdnjTBE46QtkliSQ_-y2ohD-t6_xJZLTWHPLszYEKdFtvB147DcLL0cfbgHB4lZ1bxww']}}\n"
     ]
    }
   ],
   "source": [
    "game_info = games_info[0].json()\n",
    "# Print the first 5 key-value pairs\n",
    "partial_info = dict(list(game_info.items())[:1])\n",
    "print(partial_info)"
   ]
  },
  {
   "cell_type": "markdown",
   "metadata": {},
   "source": [
    "# Exploring data"
   ]
  },
  {
   "cell_type": "code",
   "execution_count": 17,
   "metadata": {},
   "outputs": [
    {
     "name": "stdout",
     "output_type": "stream",
     "text": [
      "{'metadata': {'dataVersion': '2', 'matchId': 'EUW1_6716214316', 'participants': ['ya5-R1BFJY40JPaz3f5m6pAvgfmLqDWg04ZYXPplXAUnq7wyaIVe3FA-MD1oltS8CQ1SmSBJIY2tcA', 'oO4PDLUOhtRuXk1niMGMhsEdQ_AYBumGSt8ypgLTK_-MTMREKjsI0Ow_G85F0f5ToFJ4QGOfwYd3rA', '-qT9nEaQW8hpCYrHvHzk09TdgnxpddYEk_Ue1u5DUGNfpqLdKRzOEvfj6GV0mB7whrKEA5lwpTVsaw', '_G2gRRCcbjdmZD1a54PdNPQl7zTSrbHsujrLJRwUAu50GKwvr44eARdP20y22sIxVeP0_YD0Ydyflw', 'yIqiqA9PRjaqViM1RaQ0uzGxBeZ5Wzse5HZqwsyYH5zFIo8NNOvnjVOYlgjhVN_XzdjPKt8G1CCL9w', 'mLF5WglPOnHNsKQ11OanwJLKwNw2JqXZ6JvWP9PyQKPfmYBzcc6-olhTCAAnEZkGw-Fshi7bSOr05Q', 'tE6JBy56jmNL99zvh2mNaJ_80IgDwD73_hlJgHiyn5QATkIuwdw3z7AKQzuz9bFb3pR3Et9RF7bm7Q', '9Y3WhKRvUtKverrxkHby_SRvCG957VUsMw8DoOtw5KErWlQZwNBVTejvqcc5tSI7XdZbZrMrsHdbTg', 'pYmy69iuitiRsBt2NnocjDCGQOsamt3kWK515QyNrdvw3d27yTb-VgQrOMecLwQYAxkdYfpLMj3IBw', 'XX_sssDovIbdnjTBE46QtkliSQ_-y2ohD-t6_xJZLTWHPLszYEKdFtvB147DcLL0cfbgHB4lZ1bxww']}}\n"
     ]
    }
   ],
   "source": [
    "game_info[\"info\"][\"participants\"]\n",
    "partial_info = dict(list(game_info.items())[:1])\n",
    "print(partial_info)"
   ]
  },
  {
   "cell_type": "code",
   "execution_count": 18,
   "metadata": {},
   "outputs": [
    {
     "data": {
      "text/plain": [
       "'CLASSIC'"
      ]
     },
     "execution_count": 18,
     "metadata": {},
     "output_type": "execute_result"
    }
   ],
   "source": [
    "game_info[\"info\"][\"gameMode\"]"
   ]
  },
  {
   "cell_type": "code",
   "execution_count": 19,
   "metadata": {},
   "outputs": [
    {
     "name": "stdout",
     "output_type": "stream",
     "text": [
      "100\n",
      "100\n",
      "100\n",
      "100\n",
      "100\n",
      "200\n",
      "200\n",
      "200\n",
      "200\n",
      "200\n"
     ]
    }
   ],
   "source": [
    "for player in game_info[\"info\"][\"participants\"]:\n",
    "    print(player[\"teamId\"])"
   ]
  },
  {
   "cell_type": "code",
   "execution_count": 20,
   "metadata": {},
   "outputs": [
    {
     "name": "stdout",
     "output_type": "stream",
     "text": [
      "player = T1G2K3\n",
      "champion = Yone\n",
      "position = TOP \n",
      "\n",
      "player = Trafalgar Iaw\n",
      "champion = Elise\n",
      "position = JUNGLE \n",
      "\n",
      "player = Sobax\n",
      "champion = Azir\n",
      "position = MIDDLE \n",
      "\n",
      "player = tugaman36\n",
      "champion = MissFortune\n",
      "position = BOTTOM \n",
      "\n",
      "player = Msout0\n",
      "champion = Lux\n",
      "position = UTILITY \n",
      "\n"
     ]
    }
   ],
   "source": [
    "for player in game_info[\"info\"][\"participants\"][:5]:\n",
    "    if game_info[\"info\"][\"gameMode\"] == \"ARAM\":\n",
    "        player[\"teamPosition\"] = \"ARAM has no position\"\n",
    "    \n",
    "    print(\"player =\", player[\"summonerName\"])\n",
    "    print(\"champion =\", player[\"championName\"])\n",
    "    print(\"position =\", player[\"teamPosition\"], \"\\n\")"
   ]
  },
  {
   "cell_type": "code",
   "execution_count": 21,
   "metadata": {},
   "outputs": [
    {
     "name": "stdout",
     "output_type": "stream",
     "text": [
      "777\n",
      "60\n",
      "268\n",
      "21\n",
      "99\n",
      "887\n",
      "120\n",
      "25\n",
      "51\n",
      "101\n"
     ]
    }
   ],
   "source": [
    "for player in game_info[\"info\"][\"participants\"]:\n",
    "    print(player[\"championId\"])"
   ]
  },
  {
   "cell_type": "code",
   "execution_count": 22,
   "metadata": {},
   "outputs": [
    {
     "name": "stdout",
     "output_type": "stream",
     "text": [
      "------Blue Team-------\n",
      "player = T1G2K3\n",
      "champion = Yone\n",
      "champion = NONE\n",
      "position = TOP \n",
      "\n",
      "player = Trafalgar Iaw\n",
      "champion = Elise\n",
      "champion = NONE\n",
      "position = JUNGLE \n",
      "\n",
      "player = Sobax\n",
      "champion = Azir\n",
      "champion = SOLO\n",
      "position = MIDDLE \n",
      "\n",
      "player = tugaman36\n",
      "champion = MissFortune\n",
      "champion = CARRY\n",
      "position = BOTTOM \n",
      "\n",
      "player = Msout0\n",
      "champion = Lux\n",
      "champion = SUPPORT\n",
      "position = UTILITY \n",
      "\n"
     ]
    }
   ],
   "source": [
    "print(\"------Blue Team-------\")\n",
    "for player in game_info[\"info\"][\"participants\"]:\n",
    "    if player[\"teamId\"] == 100:\n",
    "        print(\"player =\", player[\"summonerName\"])\n",
    "        print(\"champion =\", player[\"championName\"])\n",
    "        print(\"champion =\", player[\"role\"])\n",
    "        print(\"position =\", player[\"teamPosition\"], \"\\n\")"
   ]
  },
  {
   "cell_type": "code",
   "execution_count": 23,
   "metadata": {},
   "outputs": [
    {
     "name": "stdout",
     "output_type": "stream",
     "text": [
      "------Red Team-------\n",
      "player = Feed The Rift\n",
      "champion = Gwen\n",
      "champion = SOLO\n",
      "position = TOP \n",
      "\n",
      "player = MarkosMG2\n",
      "champion = Hecarim\n",
      "champion = NONE\n",
      "position = JUNGLE \n",
      "\n",
      "player = Lucrujo\n",
      "champion = Morgana\n",
      "champion = SOLO\n",
      "position = MIDDLE \n",
      "\n",
      "player = VirginGame\n",
      "champion = Caitlyn\n",
      "champion = CARRY\n",
      "position = BOTTOM \n",
      "\n",
      "player = boredmvp\n",
      "champion = Xerath\n",
      "champion = SUPPORT\n",
      "position = UTILITY \n",
      "\n"
     ]
    }
   ],
   "source": [
    "print(\"------Red Team-------\")\n",
    "for player in game_info[\"info\"][\"participants\"]:\n",
    "    if player[\"teamId\"] == 200:\n",
    "        print(\"player =\", player[\"summonerName\"])\n",
    "        print(\"champion =\", player[\"championName\"])\n",
    "        print(\"champion =\", player[\"role\"])\n",
    "        print(\"position =\", player[\"teamPosition\"], \"\\n\")"
   ]
  },
  {
   "cell_type": "code",
   "execution_count": 24,
   "metadata": {},
   "outputs": [
    {
     "name": "stdout",
     "output_type": "stream",
     "text": [
      "1702353640546\n"
     ]
    }
   ],
   "source": [
    "print(game_info[\"info\"][\"gameCreation\"])"
   ]
  },
  {
   "cell_type": "code",
   "execution_count": 25,
   "metadata": {},
   "outputs": [
    {
     "data": {
      "text/plain": [
       "datetime.datetime(2023, 12, 12, 4, 0, 40)"
      ]
     },
     "execution_count": 25,
     "metadata": {},
     "output_type": "execute_result"
    }
   ],
   "source": [
    "from datetime import datetime\n",
    "\n",
    "t = datetime.fromtimestamp(int(str(game_info[\"info\"][\"gameCreation\"])[:10]))\n",
    "t"
   ]
  },
  {
   "cell_type": "code",
   "execution_count": 26,
   "metadata": {},
   "outputs": [
    {
     "name": "stdout",
     "output_type": "stream",
     "text": [
      "True\n"
     ]
    }
   ],
   "source": [
    "#Did not win game\n",
    "\n",
    "for player in game_info[\"info\"][\"participants\"]:\n",
    "    if player[\"summonerName\"] == \"tugaman36\":\n",
    "        print(player[\"win\"])"
   ]
  },
  {
   "cell_type": "markdown",
   "metadata": {},
   "source": [
    "# Creating CSV from data\n",
    "\n",
    "should have --> index_col = datetime\n",
    "            -->       col = game_type\n",
    "                      col = champion_played\n",
    "                      cols = alied_champions_id\n",
    "                      cols = enemy_champions_id\n",
    "                      col = team_id\n",
    "                      col = teamPosition\n",
    "                      col = teamtype\n",
    "                      col = diff team rank\n",
    "            --->      target_var = win (boolean)"
   ]
  },
  {
   "cell_type": "markdown",
   "metadata": {},
   "source": [
    "The way I calculated the target var on was inspired on this [video](https://www.youtube.com/watch?v=UkA1KvexPOM&ab_channel=Randomonium)"
   ]
  },
  {
   "cell_type": "markdown",
   "metadata": {},
   "source": [
    "![team_types](images/team_types.png)"
   ]
  }
 ],
 "metadata": {
  "kernelspec": {
   "display_name": "Python 3",
   "language": "python",
   "name": "python3"
  },
  "language_info": {
   "codemirror_mode": {
    "name": "ipython",
    "version": 3
   },
   "file_extension": ".py",
   "mimetype": "text/x-python",
   "name": "python",
   "nbconvert_exporter": "python",
   "pygments_lexer": "ipython3",
   "version": "3.11.6"
  }
 },
 "nbformat": 4,
 "nbformat_minor": 2
}
