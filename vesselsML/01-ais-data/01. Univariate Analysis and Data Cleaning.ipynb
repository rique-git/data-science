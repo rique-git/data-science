{
 "cells": [
  {
   "cell_type": "code",
   "execution_count": 1,
   "metadata": {},
   "outputs": [],
   "source": [
    "import os \n",
    "import sys\n",
    "\n",
    "from matplotlib import pyplot as plt\n",
    "import missingno as msno\n",
    "import numpy as np\n",
    "import pandas as pd\n",
    "import seaborn as sns\n",
    "\n",
    "sys.path.append('../../')\n",
    "import config"
   ]
  },
  {
   "cell_type": "markdown",
   "metadata": {},
   "source": [
    "# AIS train data"
   ]
  },
  {
   "cell_type": "code",
   "execution_count": 2,
   "metadata": {},
   "outputs": [],
   "source": [
    "train_data = pd.read_csv(os.path.join(config.DATA_DIR, '00-raw/ais_train.csv'), sep='|')"
   ]
  },
  {
   "cell_type": "code",
   "execution_count": 3,
   "metadata": {},
   "outputs": [
    {
     "data": {
      "text/html": [
       "<div>\n",
       "<style scoped>\n",
       "    .dataframe tbody tr th:only-of-type {\n",
       "        vertical-align: middle;\n",
       "    }\n",
       "\n",
       "    .dataframe tbody tr th {\n",
       "        vertical-align: top;\n",
       "    }\n",
       "\n",
       "    .dataframe thead th {\n",
       "        text-align: right;\n",
       "    }\n",
       "</style>\n",
       "<table border=\"1\" class=\"dataframe\">\n",
       "  <thead>\n",
       "    <tr style=\"text-align: right;\">\n",
       "      <th></th>\n",
       "      <th>time</th>\n",
       "      <th>cog</th>\n",
       "      <th>sog</th>\n",
       "      <th>rot</th>\n",
       "      <th>heading</th>\n",
       "      <th>navstat</th>\n",
       "      <th>etaRaw</th>\n",
       "      <th>latitude</th>\n",
       "      <th>longitude</th>\n",
       "      <th>vesselId</th>\n",
       "      <th>portId</th>\n",
       "    </tr>\n",
       "  </thead>\n",
       "  <tbody>\n",
       "    <tr>\n",
       "      <th>0</th>\n",
       "      <td>2024-01-01 00:00:25</td>\n",
       "      <td>284.0</td>\n",
       "      <td>0.7</td>\n",
       "      <td>0</td>\n",
       "      <td>88</td>\n",
       "      <td>0</td>\n",
       "      <td>01-09 23:00</td>\n",
       "      <td>-34.74370</td>\n",
       "      <td>-57.85130</td>\n",
       "      <td>61e9f3a8b937134a3c4bfdf7</td>\n",
       "      <td>61d371c43aeaecc07011a37f</td>\n",
       "    </tr>\n",
       "    <tr>\n",
       "      <th>1</th>\n",
       "      <td>2024-01-01 00:00:36</td>\n",
       "      <td>109.6</td>\n",
       "      <td>0.0</td>\n",
       "      <td>-6</td>\n",
       "      <td>347</td>\n",
       "      <td>1</td>\n",
       "      <td>12-29 20:00</td>\n",
       "      <td>8.89440</td>\n",
       "      <td>-79.47939</td>\n",
       "      <td>61e9f3d4b937134a3c4bff1f</td>\n",
       "      <td>634c4de270937fc01c3a7689</td>\n",
       "    </tr>\n",
       "    <tr>\n",
       "      <th>2</th>\n",
       "      <td>2024-01-01 00:01:45</td>\n",
       "      <td>111.0</td>\n",
       "      <td>11.0</td>\n",
       "      <td>0</td>\n",
       "      <td>112</td>\n",
       "      <td>0</td>\n",
       "      <td>01-02 09:00</td>\n",
       "      <td>39.19065</td>\n",
       "      <td>-76.47567</td>\n",
       "      <td>61e9f436b937134a3c4c0131</td>\n",
       "      <td>61d3847bb7b7526e1adf3d19</td>\n",
       "    </tr>\n",
       "    <tr>\n",
       "      <th>3</th>\n",
       "      <td>2024-01-01 00:03:11</td>\n",
       "      <td>96.4</td>\n",
       "      <td>0.0</td>\n",
       "      <td>0</td>\n",
       "      <td>142</td>\n",
       "      <td>1</td>\n",
       "      <td>12-31 20:00</td>\n",
       "      <td>-34.41189</td>\n",
       "      <td>151.02067</td>\n",
       "      <td>61e9f3b4b937134a3c4bfe77</td>\n",
       "      <td>61d36f770a1807568ff9a126</td>\n",
       "    </tr>\n",
       "    <tr>\n",
       "      <th>4</th>\n",
       "      <td>2024-01-01 00:03:51</td>\n",
       "      <td>214.0</td>\n",
       "      <td>19.7</td>\n",
       "      <td>0</td>\n",
       "      <td>215</td>\n",
       "      <td>0</td>\n",
       "      <td>01-25 12:00</td>\n",
       "      <td>35.88379</td>\n",
       "      <td>-5.91636</td>\n",
       "      <td>61e9f41bb937134a3c4c0087</td>\n",
       "      <td>634c4de270937fc01c3a74f3</td>\n",
       "    </tr>\n",
       "  </tbody>\n",
       "</table>\n",
       "</div>"
      ],
      "text/plain": [
       "                  time    cog   sog  rot  heading  navstat       etaRaw  \\\n",
       "0  2024-01-01 00:00:25  284.0   0.7    0       88        0  01-09 23:00   \n",
       "1  2024-01-01 00:00:36  109.6   0.0   -6      347        1  12-29 20:00   \n",
       "2  2024-01-01 00:01:45  111.0  11.0    0      112        0  01-02 09:00   \n",
       "3  2024-01-01 00:03:11   96.4   0.0    0      142        1  12-31 20:00   \n",
       "4  2024-01-01 00:03:51  214.0  19.7    0      215        0  01-25 12:00   \n",
       "\n",
       "   latitude  longitude                  vesselId                    portId  \n",
       "0 -34.74370  -57.85130  61e9f3a8b937134a3c4bfdf7  61d371c43aeaecc07011a37f  \n",
       "1   8.89440  -79.47939  61e9f3d4b937134a3c4bff1f  634c4de270937fc01c3a7689  \n",
       "2  39.19065  -76.47567  61e9f436b937134a3c4c0131  61d3847bb7b7526e1adf3d19  \n",
       "3 -34.41189  151.02067  61e9f3b4b937134a3c4bfe77  61d36f770a1807568ff9a126  \n",
       "4  35.88379   -5.91636  61e9f41bb937134a3c4c0087  634c4de270937fc01c3a74f3  "
      ]
     },
     "execution_count": 3,
     "metadata": {},
     "output_type": "execute_result"
    }
   ],
   "source": [
    "train_data.head()"
   ]
  },
  {
   "cell_type": "code",
   "execution_count": 4,
   "metadata": {},
   "outputs": [
    {
     "data": {
      "text/plain": [
       "(1522065, 11)"
      ]
     },
     "execution_count": 4,
     "metadata": {},
     "output_type": "execute_result"
    }
   ],
   "source": [
    "train_data.shape"
   ]
  },
  {
   "cell_type": "code",
   "execution_count": 5,
   "metadata": {},
   "outputs": [
    {
     "data": {
      "text/html": [
       "<div>\n",
       "<style scoped>\n",
       "    .dataframe tbody tr th:only-of-type {\n",
       "        vertical-align: middle;\n",
       "    }\n",
       "\n",
       "    .dataframe tbody tr th {\n",
       "        vertical-align: top;\n",
       "    }\n",
       "\n",
       "    .dataframe thead th {\n",
       "        text-align: right;\n",
       "    }\n",
       "</style>\n",
       "<table border=\"1\" class=\"dataframe\">\n",
       "  <thead>\n",
       "    <tr style=\"text-align: right;\">\n",
       "      <th></th>\n",
       "      <th>cog</th>\n",
       "      <th>sog</th>\n",
       "      <th>rot</th>\n",
       "      <th>heading</th>\n",
       "      <th>navstat</th>\n",
       "      <th>latitude</th>\n",
       "      <th>longitude</th>\n",
       "    </tr>\n",
       "  </thead>\n",
       "  <tbody>\n",
       "    <tr>\n",
       "      <th>mean</th>\n",
       "      <td>178.249396</td>\n",
       "      <td>6.331703</td>\n",
       "      <td>0.505456</td>\n",
       "      <td>176.273681</td>\n",
       "      <td>2.092604</td>\n",
       "      <td>36.584970</td>\n",
       "      <td>11.536464</td>\n",
       "    </tr>\n",
       "    <tr>\n",
       "      <th>std</th>\n",
       "      <td>107.678507</td>\n",
       "      <td>7.539364</td>\n",
       "      <td>17.609157</td>\n",
       "      <td>107.085986</td>\n",
       "      <td>2.411965</td>\n",
       "      <td>22.904879</td>\n",
       "      <td>68.715718</td>\n",
       "    </tr>\n",
       "    <tr>\n",
       "      <th>min</th>\n",
       "      <td>0.000000</td>\n",
       "      <td>0.000000</td>\n",
       "      <td>-127.000000</td>\n",
       "      <td>0.000000</td>\n",
       "      <td>0.000000</td>\n",
       "      <td>-47.532870</td>\n",
       "      <td>-167.540930</td>\n",
       "    </tr>\n",
       "    <tr>\n",
       "      <th>25%</th>\n",
       "      <td>78.200000</td>\n",
       "      <td>0.000000</td>\n",
       "      <td>0.000000</td>\n",
       "      <td>75.000000</td>\n",
       "      <td>0.000000</td>\n",
       "      <td>34.516830</td>\n",
       "      <td>-5.212810</td>\n",
       "    </tr>\n",
       "    <tr>\n",
       "      <th>50%</th>\n",
       "      <td>183.800000</td>\n",
       "      <td>0.500000</td>\n",
       "      <td>0.000000</td>\n",
       "      <td>180.000000</td>\n",
       "      <td>0.000000</td>\n",
       "      <td>42.233700</td>\n",
       "      <td>4.234350</td>\n",
       "    </tr>\n",
       "    <tr>\n",
       "      <th>75%</th>\n",
       "      <td>269.000000</td>\n",
       "      <td>14.100000</td>\n",
       "      <td>0.000000</td>\n",
       "      <td>265.000000</td>\n",
       "      <td>5.000000</td>\n",
       "      <td>51.351970</td>\n",
       "      <td>18.837150</td>\n",
       "    </tr>\n",
       "    <tr>\n",
       "      <th>max</th>\n",
       "      <td>360.000000</td>\n",
       "      <td>102.300000</td>\n",
       "      <td>128.000000</td>\n",
       "      <td>511.000000</td>\n",
       "      <td>15.000000</td>\n",
       "      <td>70.557200</td>\n",
       "      <td>178.805380</td>\n",
       "    </tr>\n",
       "  </tbody>\n",
       "</table>\n",
       "</div>"
      ],
      "text/plain": [
       "             cog         sog         rot     heading    navstat   latitude  \\\n",
       "mean  178.249396    6.331703    0.505456  176.273681   2.092604  36.584970   \n",
       "std   107.678507    7.539364   17.609157  107.085986   2.411965  22.904879   \n",
       "min     0.000000    0.000000 -127.000000    0.000000   0.000000 -47.532870   \n",
       "25%    78.200000    0.000000    0.000000   75.000000   0.000000  34.516830   \n",
       "50%   183.800000    0.500000    0.000000  180.000000   0.000000  42.233700   \n",
       "75%   269.000000   14.100000    0.000000  265.000000   5.000000  51.351970   \n",
       "max   360.000000  102.300000  128.000000  511.000000  15.000000  70.557200   \n",
       "\n",
       "       longitude  \n",
       "mean   11.536464  \n",
       "std    68.715718  \n",
       "min  -167.540930  \n",
       "25%    -5.212810  \n",
       "50%     4.234350  \n",
       "75%    18.837150  \n",
       "max   178.805380  "
      ]
     },
     "execution_count": 5,
     "metadata": {},
     "output_type": "execute_result"
    }
   ],
   "source": [
    "train_data.describe().iloc[1:,:]"
   ]
  },
  {
   "cell_type": "code",
   "execution_count": 6,
   "metadata": {},
   "outputs": [
    {
     "name": "stdout",
     "output_type": "stream",
     "text": [
      "<class 'pandas.core.frame.DataFrame'>\n",
      "RangeIndex: 1522065 entries, 0 to 1522064\n",
      "Data columns (total 11 columns):\n",
      " #   Column     Non-Null Count    Dtype  \n",
      "---  ------     --------------    -----  \n",
      " 0   time       1522065 non-null  object \n",
      " 1   cog        1522065 non-null  float64\n",
      " 2   sog        1522065 non-null  float64\n",
      " 3   rot        1522065 non-null  int64  \n",
      " 4   heading    1522065 non-null  int64  \n",
      " 5   navstat    1522065 non-null  int64  \n",
      " 6   etaRaw     1522065 non-null  object \n",
      " 7   latitude   1522065 non-null  float64\n",
      " 8   longitude  1522065 non-null  float64\n",
      " 9   vesselId   1522065 non-null  object \n",
      " 10  portId     1520450 non-null  object \n",
      "dtypes: float64(4), int64(3), object(4)\n",
      "memory usage: 127.7+ MB\n"
     ]
    }
   ],
   "source": [
    "train_data.info()"
   ]
  },
  {
   "cell_type": "code",
   "execution_count": 7,
   "metadata": {},
   "outputs": [
    {
     "data": {
      "text/plain": [
       "time            0\n",
       "cog             0\n",
       "sog             0\n",
       "rot             0\n",
       "heading         0\n",
       "navstat         0\n",
       "etaRaw          0\n",
       "latitude        0\n",
       "longitude       0\n",
       "vesselId        0\n",
       "portId       1615\n",
       "dtype: int64"
      ]
     },
     "execution_count": 7,
     "metadata": {},
     "output_type": "execute_result"
    }
   ],
   "source": [
    "train_data.isna().sum()"
   ]
  },
  {
   "cell_type": "code",
   "execution_count": 8,
   "metadata": {},
   "outputs": [
    {
     "data": {
      "text/plain": [
       "<Axes: >"
      ]
     },
     "execution_count": 8,
     "metadata": {},
     "output_type": "execute_result"
    },
    {
     "data": {
      "image/png": "[encoded data removed]",
      "text/plain": [
       "<Figure size 2500x1000 with 2 Axes>"
      ]
     },
     "metadata": {},
     "output_type": "display_data"
    }
   ],
   "source": [
    "msno.matrix(train_data)"
   ]
  },
  {
   "cell_type": "markdown",
   "metadata": {},
   "source": [
    "### Univariate analysis"
   ]
  },
  {
   "cell_type": "markdown",
   "metadata": {},
   "source": [
    " **Time**"
   ]
  },
  {
   "cell_type": "code",
   "execution_count": 9,
   "metadata": {},
   "outputs": [
    {
     "data": {
      "text/plain": [
       "0    2024-01-01 00:00:25\n",
       "1    2024-01-01 00:00:36\n",
       "2    2024-01-01 00:01:45\n",
       "3    2024-01-01 00:03:11\n",
       "4    2024-01-01 00:03:51\n",
       "Name: time, dtype: object"
      ]
     },
     "execution_count": 9,
     "metadata": {},
     "output_type": "execute_result"
    }
   ],
   "source": [
    "train_data.time.head()"
   ]
  },
  {
   "cell_type": "code",
   "execution_count": 10,
   "metadata": {},
   "outputs": [],
   "source": [
    "train_data.time = pd.to_datetime(train_data.time)"
   ]
  },
  {
   "cell_type": "code",
   "execution_count": 11,
   "metadata": {},
   "outputs": [
    {
     "data": {
      "text/plain": [
       "np.int64(0)"
      ]
     },
     "execution_count": 11,
     "metadata": {},
     "output_type": "execute_result"
    }
   ],
   "source": [
    "train_data.time.isna().sum()"
   ]
  },
  {
   "cell_type": "code",
   "execution_count": 12,
   "metadata": {},
   "outputs": [
    {
     "data": {
      "text/plain": [
       "count                          1522065\n",
       "mean     2024-03-06 03:20:23.657231360\n",
       "min                2024-01-01 00:00:25\n",
       "25%                2024-02-03 02:59:19\n",
       "50%                2024-03-07 12:34:57\n",
       "75%                2024-04-07 07:37:36\n",
       "max                2024-05-07 23:59:08\n",
       "Name: time, dtype: object"
      ]
     },
     "execution_count": 12,
     "metadata": {},
     "output_type": "execute_result"
    }
   ],
   "source": [
    "train_data.time.describe()"
   ]
  },
  {
   "cell_type": "markdown",
   "metadata": {},
   "source": [
    " **Cog**"
   ]
  },
  {
   "cell_type": "code",
   "execution_count": 13,
   "metadata": {},
   "outputs": [
    {
     "name": "stderr",
     "output_type": "stream",
     "text": [
      "/var/folders/sz/sv4w8zxs0l9g59yx7yjgl9580000gn/T/ipykernel_28953/1087479312.py:1: FutureWarning: A value is trying to be set on a copy of a DataFrame or Series through chained assignment using an inplace method.\n",
      "The behavior will change in pandas 3.0. This inplace method will never work because the intermediate object on which we are setting values always behaves as a copy.\n",
      "\n",
      "For example, when doing 'df[col].method(value, inplace=True)', try using 'df.method({col: value}, inplace=True)' or df[col] = df[col].method(value) instead, to perform the operation inplace on the original object.\n",
      "\n",
      "\n",
      "  train_data['cog'].replace(360, np.nan, inplace=True)\n"
     ]
    }
   ],
   "source": [
    "train_data['cog'].replace(360, np.nan, inplace=True)"
   ]
  },
  {
   "cell_type": "code",
   "execution_count": 14,
   "metadata": {},
   "outputs": [
    {
     "data": {
      "text/plain": [
       "time            0\n",
       "cog          5858\n",
       "sog             0\n",
       "rot             0\n",
       "heading         0\n",
       "navstat         0\n",
       "etaRaw          0\n",
       "latitude        0\n",
       "longitude       0\n",
       "vesselId        0\n",
       "portId       1615\n",
       "dtype: int64"
      ]
     },
     "execution_count": 14,
     "metadata": {},
     "output_type": "execute_result"
    }
   ],
   "source": [
    "train_data.isna().sum()"
   ]
  },
  {
   "cell_type": "code",
   "execution_count": 15,
   "metadata": {},
   "outputs": [
    {
     "data": {
      "text/plain": [
       "mean    177.547186\n",
       "std     107.290902\n",
       "min       0.000000\n",
       "25%      78.000000\n",
       "50%     183.000000\n",
       "75%     268.000000\n",
       "max     359.900000\n",
       "Name: cog, dtype: float64"
      ]
     },
     "execution_count": 15,
     "metadata": {},
     "output_type": "execute_result"
    }
   ],
   "source": [
    "train_data.cog.describe()[1:]"
   ]
  },
  {
   "cell_type": "code",
   "execution_count": 16,
   "metadata": {},
   "outputs": [
    {
     "data": {
      "text/plain": [
       "[]"
      ]
     },
     "execution_count": 16,
     "metadata": {},
     "output_type": "execute_result"
    },
    {
     "data": {
      "image/png": "[encoded data removed]",
      "text/plain": [
       "<Figure size 800x800 with 1 Axes>"
      ]
     },
     "metadata": {},
     "output_type": "display_data"
    }
   ],
   "source": [
    "plt.figure(figsize=(8, 8))\n",
    "ax = plt.subplot(111, polar=True)\n",
    "ax.hist(np.deg2rad(train_data['cog'].dropna()), bins=36)\n",
    "plt.plot()"
   ]
  },
  {
   "cell_type": "markdown",
   "metadata": {},
   "source": [
    "A notable concentration of vessels heading between 0° and 90° (north-east)"
   ]
  },
  {
   "cell_type": "markdown",
   "metadata": {},
   "source": [
    " **Sog**"
   ]
  },
  {
   "cell_type": "code",
   "execution_count": 17,
   "metadata": {},
   "outputs": [
    {
     "data": {
      "text/plain": [
       "mean      6.331703\n",
       "std       7.539364\n",
       "min       0.000000\n",
       "25%       0.000000\n",
       "50%       0.500000\n",
       "75%      14.100000\n",
       "max     102.300000\n",
       "Name: sog, dtype: float64"
      ]
     },
     "execution_count": 17,
     "metadata": {},
     "output_type": "execute_result"
    }
   ],
   "source": [
    "train_data.sog.describe()[1:]"
   ]
  },
  {
   "cell_type": "code",
   "execution_count": 18,
   "metadata": {},
   "outputs": [],
   "source": [
    "train_data['sog']= train_data['sog'].replace(102.3, np.nan)"
   ]
  },
  {
   "cell_type": "code",
   "execution_count": 19,
   "metadata": {},
   "outputs": [
    {
     "data": {
      "text/plain": [
       "time            0\n",
       "cog          5858\n",
       "sog           393\n",
       "rot             0\n",
       "heading         0\n",
       "navstat         0\n",
       "etaRaw          0\n",
       "latitude        0\n",
       "longitude       0\n",
       "vesselId        0\n",
       "portId       1615\n",
       "dtype: int64"
      ]
     },
     "execution_count": 19,
     "metadata": {},
     "output_type": "execute_result"
    }
   ],
   "source": [
    "train_data.isna().sum()"
   ]
  },
  {
   "cell_type": "code",
   "execution_count": 20,
   "metadata": {},
   "outputs": [
    {
     "data": {
      "text/plain": [
       "<Axes: xlabel='sog', ylabel='Count'>"
      ]
     },
     "execution_count": 20,
     "metadata": {},
     "output_type": "execute_result"
    },
    {
     "data": {
      "image/png": "[encoded data removed]",
      "text/plain": [
       "<Figure size 640x480 with 1 Axes>"
      ]
     },
     "metadata": {},
     "output_type": "display_data"
    }
   ],
   "source": [
    "sns.histplot(train_data['sog'].dropna(), kde=True)"
   ]
  },
  {
   "cell_type": "markdown",
   "metadata": {},
   "source": [
    " **Sog**"
   ]
  },
  {
   "cell_type": "code",
   "execution_count": 21,
   "metadata": {},
   "outputs": [],
   "source": [
    "train_data['rot'] = train_data['rot'].replace(128, np.nan)"
   ]
  },
  {
   "cell_type": "code",
   "execution_count": 22,
   "metadata": {},
   "outputs": [
    {
     "data": {
      "text/plain": [
       "<Axes: xlabel='rot', ylabel='Count'>"
      ]
     },
     "execution_count": 22,
     "metadata": {},
     "output_type": "execute_result"
    },
    {
     "data": {
      "image/png": "[encoded data removed]",
      "text/plain": [
       "<Figure size 640x480 with 1 Axes>"
      ]
     },
     "metadata": {},
     "output_type": "display_data"
    }
   ],
   "source": [
    "sns.histplot(train_data['rot'].dropna(), kde=True)"
   ]
  },
  {
   "cell_type": "code",
   "execution_count": 23,
   "metadata": {},
   "outputs": [
    {
     "data": {
      "text/plain": [
       "np.int64(5563)"
      ]
     },
     "execution_count": 23,
     "metadata": {},
     "output_type": "execute_result"
    }
   ],
   "source": [
    "train_data['rot'].isna().sum()"
   ]
  },
  {
   "cell_type": "code",
   "execution_count": 24,
   "metadata": {},
   "outputs": [
    {
     "data": {
      "text/plain": [
       "mean      0.037767\n",
       "std      15.854755\n",
       "min    -127.000000\n",
       "25%       0.000000\n",
       "50%       0.000000\n",
       "75%       0.000000\n",
       "max     127.000000\n",
       "Name: rot, dtype: float64"
      ]
     },
     "execution_count": 24,
     "metadata": {},
     "output_type": "execute_result"
    }
   ],
   "source": [
    "train_data['rot'].describe()[1:]"
   ]
  },
  {
   "cell_type": "markdown",
   "metadata": {},
   "source": [
    " **Heading**"
   ]
  },
  {
   "cell_type": "code",
   "execution_count": 25,
   "metadata": {},
   "outputs": [],
   "source": [
    "train_data['heading'] = train_data['heading'].replace(511, np.nan)"
   ]
  },
  {
   "cell_type": "code",
   "execution_count": 26,
   "metadata": {},
   "outputs": [
    {
     "data": {
      "text/plain": [
       "time            0\n",
       "cog          5858\n",
       "sog           393\n",
       "rot          5563\n",
       "heading      4895\n",
       "navstat         0\n",
       "etaRaw          0\n",
       "latitude        0\n",
       "longitude       0\n",
       "vesselId        0\n",
       "portId       1615\n",
       "dtype: int64"
      ]
     },
     "execution_count": 26,
     "metadata": {},
     "output_type": "execute_result"
    }
   ],
   "source": [
    "train_data.isna().sum()"
   ]
  },
  {
   "cell_type": "code",
   "execution_count": 27,
   "metadata": {},
   "outputs": [
    {
     "data": {
      "text/plain": [
       "mean    175.193720\n",
       "std     105.554482\n",
       "min       0.000000\n",
       "25%      75.000000\n",
       "50%     180.000000\n",
       "75%     264.000000\n",
       "max     483.000000\n",
       "Name: heading, dtype: float64"
      ]
     },
     "execution_count": 27,
     "metadata": {},
     "output_type": "execute_result"
    }
   ],
   "source": [
    "train_data.heading.describe()[1:]"
   ]
  },
  {
   "cell_type": "code",
   "execution_count": 28,
   "metadata": {},
   "outputs": [
    {
     "data": {
      "text/html": [
       "<div>\n",
       "<style scoped>\n",
       "    .dataframe tbody tr th:only-of-type {\n",
       "        vertical-align: middle;\n",
       "    }\n",
       "\n",
       "    .dataframe tbody tr th {\n",
       "        vertical-align: top;\n",
       "    }\n",
       "\n",
       "    .dataframe thead th {\n",
       "        text-align: right;\n",
       "    }\n",
       "</style>\n",
       "<table border=\"1\" class=\"dataframe\">\n",
       "  <thead>\n",
       "    <tr style=\"text-align: right;\">\n",
       "      <th></th>\n",
       "      <th>time</th>\n",
       "      <th>cog</th>\n",
       "      <th>sog</th>\n",
       "      <th>rot</th>\n",
       "      <th>heading</th>\n",
       "      <th>navstat</th>\n",
       "      <th>etaRaw</th>\n",
       "      <th>latitude</th>\n",
       "      <th>longitude</th>\n",
       "      <th>vesselId</th>\n",
       "      <th>portId</th>\n",
       "    </tr>\n",
       "  </thead>\n",
       "  <tbody>\n",
       "    <tr>\n",
       "      <th>581301</th>\n",
       "      <td>2024-02-20 07:36:36</td>\n",
       "      <td>275.4</td>\n",
       "      <td>0.0</td>\n",
       "      <td>8.0</td>\n",
       "      <td>483.0</td>\n",
       "      <td>5</td>\n",
       "      <td>02-18 15:00</td>\n",
       "      <td>53.57729</td>\n",
       "      <td>8.5507</td>\n",
       "      <td>61e9f3adb937134a3c4bfe35</td>\n",
       "      <td>61d375e793c6feb83e5eb3e2</td>\n",
       "    </tr>\n",
       "  </tbody>\n",
       "</table>\n",
       "</div>"
      ],
      "text/plain": [
       "                      time    cog  sog  rot  heading  navstat       etaRaw  \\\n",
       "581301 2024-02-20 07:36:36  275.4  0.0  8.0    483.0        5  02-18 15:00   \n",
       "\n",
       "        latitude  longitude                  vesselId  \\\n",
       "581301  53.57729     8.5507  61e9f3adb937134a3c4bfe35   \n",
       "\n",
       "                          portId  \n",
       "581301  61d375e793c6feb83e5eb3e2  "
      ]
     },
     "execution_count": 28,
     "metadata": {},
     "output_type": "execute_result"
    }
   ],
   "source": [
    "train_data[(train_data.heading>359)]"
   ]
  },
  {
   "cell_type": "markdown",
   "metadata": {},
   "source": [
    "Only one value with wrong heading, lets remove it"
   ]
  },
  {
   "cell_type": "code",
   "execution_count": 29,
   "metadata": {},
   "outputs": [],
   "source": [
    "train_data = train_data[~(train_data.heading>359)]"
   ]
  },
  {
   "cell_type": "markdown",
   "metadata": {},
   "source": [
    " **Navstat**"
   ]
  },
  {
   "cell_type": "code",
   "execution_count": 30,
   "metadata": {},
   "outputs": [],
   "source": [
    "navstat_mapping = {\n",
    "    0: 'Under way using engine',\n",
    "    1: 'At anchor',\n",
    "    2: 'Not under command',\n",
    "    3: 'Restricted manoeuverability',\n",
    "    4: 'Constrained by her draught',\n",
    "    5: 'Moored',\n",
    "    6: 'Aground',\n",
    "    7: 'Engaged in Fishing',\n",
    "    8: 'Under way sailing',\n",
    "    9: 'Reserved',\n",
    "    10: 'Reserved',\n",
    "    11: 'Reserved',\n",
    "    12: 'Reserved',\n",
    "    13: 'Reserved',\n",
    "    14: 'AIS-SART is active',\n",
    "    15: 'Not defined'\n",
    "}\n",
    "\n",
    "# Map the codes to descriptions\n",
    "train_data_codes = train_data['navstat'].map(navstat_mapping)"
   ]
  },
  {
   "cell_type": "code",
   "execution_count": 31,
   "metadata": {},
   "outputs": [
    {
     "data": {
      "text/plain": [
       "navstat\n",
       "Under way using engine         782099\n",
       "Moored                         605830\n",
       "At anchor                      129515\n",
       "Not under command                2081\n",
       "Under way sailing                 948\n",
       "Not defined                       670\n",
       "Aground                           521\n",
       "Constrained by her draught        232\n",
       "Restricted manoeuverability       161\n",
       "Reserved                            5\n",
       "AIS-SART is active                  1\n",
       "Engaged in Fishing                  1\n",
       "Name: count, dtype: int64"
      ]
     },
     "execution_count": 31,
     "metadata": {},
     "output_type": "execute_result"
    }
   ],
   "source": [
    "train_data_codes.value_counts(dropna=False)"
   ]
  },
  {
   "cell_type": "code",
   "execution_count": 32,
   "metadata": {},
   "outputs": [],
   "source": [
    "navstat_mapping = {\n",
    "    0: 'Under way using engine',\n",
    "    1: 'At anchor',\n",
    "    2: 'Not under command',\n",
    "    3: 'Restricted manoeuverability',\n",
    "    4: 'Constrained by her draught',\n",
    "    5: 'Moored',\n",
    "    6: 'Aground',\n",
    "    7: 'Undefined',\n",
    "    8: 'Under way sailing',\n",
    "    9: 'Undefined',\n",
    "    10: 'Undefined',\n",
    "    11: 'Undefined',\n",
    "    12: 'Undefined',\n",
    "    13: 'Undefined',\n",
    "    14: 'Undefined',\n",
    "    15: 'Undefined'\n",
    "}\n",
    "train_data['navstat'] = train_data['navstat'].map(navstat_mapping)"
   ]
  },
  {
   "cell_type": "code",
   "execution_count": 33,
   "metadata": {},
   "outputs": [
    {
     "data": {
      "text/plain": [
       "navstat\n",
       "Under way using engine         782099\n",
       "Moored                         605830\n",
       "At anchor                      129515\n",
       "Not under command                2081\n",
       "Under way sailing                 948\n",
       "Undefined                         677\n",
       "Aground                           521\n",
       "Constrained by her draught        232\n",
       "Restricted manoeuverability       161\n",
       "Name: count, dtype: int64"
      ]
     },
     "execution_count": 33,
     "metadata": {},
     "output_type": "execute_result"
    }
   ],
   "source": [
    "train_data.navstat.value_counts(dropna=False)"
   ]
  },
  {
   "cell_type": "markdown",
   "metadata": {},
   "source": [
    " **etaraw**"
   ]
  },
  {
   "cell_type": "code",
   "execution_count": 34,
   "metadata": {},
   "outputs": [
    {
     "data": {
      "text/plain": [
       "0    01-09 23:00\n",
       "1    12-29 20:00\n",
       "2    01-02 09:00\n",
       "3    12-31 20:00\n",
       "4    01-25 12:00\n",
       "Name: etaRaw, dtype: object"
      ]
     },
     "execution_count": 34,
     "metadata": {},
     "output_type": "execute_result"
    }
   ],
   "source": [
    "train_data['etaRaw'].head()"
   ]
  },
  {
   "cell_type": "code",
   "execution_count": 35,
   "metadata": {},
   "outputs": [],
   "source": [
    "eta_decoded = pd.to_datetime(train_data['etaRaw'], format='%m-%d %H:%M', errors='coerce')\n",
    "eta_decoded = eta_decoded.apply(lambda x: x.replace(year=2024) if pd.notnull(x) else x)\n"
   ]
  },
  {
   "cell_type": "code",
   "execution_count": 36,
   "metadata": {},
   "outputs": [
    {
     "data": {
      "text/plain": [
       "0         2024-01-09 23:00:00\n",
       "1         2024-12-29 20:00:00\n",
       "2         2024-01-02 09:00:00\n",
       "3         2024-12-31 20:00:00\n",
       "4         2024-01-25 12:00:00\n",
       "                  ...        \n",
       "1522060   2024-05-08 05:00:00\n",
       "1522061   2024-05-10 03:00:00\n",
       "1522062   2024-05-15 23:00:00\n",
       "1522063   2024-05-08 12:45:00\n",
       "1522064   2024-05-07 23:00:00\n",
       "Name: etaRaw, Length: 1522064, dtype: datetime64[ns]"
      ]
     },
     "execution_count": 36,
     "metadata": {},
     "output_type": "execute_result"
    }
   ],
   "source": [
    "eta_decoded"
   ]
  },
  {
   "cell_type": "code",
   "execution_count": 37,
   "metadata": {},
   "outputs": [],
   "source": [
    "train_data['eta_hours'] = (eta_decoded - train_data['time']).dt.total_seconds() / 3600  # In hours\n"
   ]
  },
  {
   "cell_type": "code",
   "execution_count": 38,
   "metadata": {},
   "outputs": [
    {
     "data": {
      "text/plain": [
       "mean     147.564266\n",
       "std     1115.533636\n",
       "min    -3068.983611\n",
       "25%      -18.677917\n",
       "50%        0.370556\n",
       "75%       26.676250\n",
       "max     8783.834722\n",
       "Name: eta_hours, dtype: float64"
      ]
     },
     "execution_count": 38,
     "metadata": {},
     "output_type": "execute_result"
    }
   ],
   "source": [
    "train_data.eta_hours.describe()[1:]"
   ]
  },
  {
   "cell_type": "markdown",
   "metadata": {},
   "source": [
    "I'll leave negative eta, maybe it has some inherent meaning to it and it's not just a mistake. Maybe the ship was supposed to arrive but hasn't yet"
   ]
  },
  {
   "cell_type": "code",
   "execution_count": 39,
   "metadata": {},
   "outputs": [],
   "source": [
    "train_data = train_data.drop(columns=['etaRaw'])"
   ]
  },
  {
   "cell_type": "code",
   "execution_count": 40,
   "metadata": {},
   "outputs": [
    {
     "data": {
      "text/html": [
       "<div>\n",
       "<style scoped>\n",
       "    .dataframe tbody tr th:only-of-type {\n",
       "        vertical-align: middle;\n",
       "    }\n",
       "\n",
       "    .dataframe tbody tr th {\n",
       "        vertical-align: top;\n",
       "    }\n",
       "\n",
       "    .dataframe thead th {\n",
       "        text-align: right;\n",
       "    }\n",
       "</style>\n",
       "<table border=\"1\" class=\"dataframe\">\n",
       "  <thead>\n",
       "    <tr style=\"text-align: right;\">\n",
       "      <th></th>\n",
       "      <th>time</th>\n",
       "      <th>cog</th>\n",
       "      <th>sog</th>\n",
       "      <th>rot</th>\n",
       "      <th>heading</th>\n",
       "      <th>navstat</th>\n",
       "      <th>latitude</th>\n",
       "      <th>longitude</th>\n",
       "      <th>vesselId</th>\n",
       "      <th>portId</th>\n",
       "      <th>eta_hours</th>\n",
       "    </tr>\n",
       "  </thead>\n",
       "  <tbody>\n",
       "    <tr>\n",
       "      <th>0</th>\n",
       "      <td>2024-01-01 00:00:25</td>\n",
       "      <td>284.0</td>\n",
       "      <td>0.7</td>\n",
       "      <td>0.0</td>\n",
       "      <td>88.0</td>\n",
       "      <td>Under way using engine</td>\n",
       "      <td>-34.74370</td>\n",
       "      <td>-57.85130</td>\n",
       "      <td>61e9f3a8b937134a3c4bfdf7</td>\n",
       "      <td>61d371c43aeaecc07011a37f</td>\n",
       "      <td>214.993056</td>\n",
       "    </tr>\n",
       "    <tr>\n",
       "      <th>1</th>\n",
       "      <td>2024-01-01 00:00:36</td>\n",
       "      <td>109.6</td>\n",
       "      <td>0.0</td>\n",
       "      <td>-6.0</td>\n",
       "      <td>347.0</td>\n",
       "      <td>At anchor</td>\n",
       "      <td>8.89440</td>\n",
       "      <td>-79.47939</td>\n",
       "      <td>61e9f3d4b937134a3c4bff1f</td>\n",
       "      <td>634c4de270937fc01c3a7689</td>\n",
       "      <td>8731.990000</td>\n",
       "    </tr>\n",
       "    <tr>\n",
       "      <th>2</th>\n",
       "      <td>2024-01-01 00:01:45</td>\n",
       "      <td>111.0</td>\n",
       "      <td>11.0</td>\n",
       "      <td>0.0</td>\n",
       "      <td>112.0</td>\n",
       "      <td>Under way using engine</td>\n",
       "      <td>39.19065</td>\n",
       "      <td>-76.47567</td>\n",
       "      <td>61e9f436b937134a3c4c0131</td>\n",
       "      <td>61d3847bb7b7526e1adf3d19</td>\n",
       "      <td>32.970833</td>\n",
       "    </tr>\n",
       "    <tr>\n",
       "      <th>3</th>\n",
       "      <td>2024-01-01 00:03:11</td>\n",
       "      <td>96.4</td>\n",
       "      <td>0.0</td>\n",
       "      <td>0.0</td>\n",
       "      <td>142.0</td>\n",
       "      <td>At anchor</td>\n",
       "      <td>-34.41189</td>\n",
       "      <td>151.02067</td>\n",
       "      <td>61e9f3b4b937134a3c4bfe77</td>\n",
       "      <td>61d36f770a1807568ff9a126</td>\n",
       "      <td>8779.946944</td>\n",
       "    </tr>\n",
       "    <tr>\n",
       "      <th>4</th>\n",
       "      <td>2024-01-01 00:03:51</td>\n",
       "      <td>214.0</td>\n",
       "      <td>19.7</td>\n",
       "      <td>0.0</td>\n",
       "      <td>215.0</td>\n",
       "      <td>Under way using engine</td>\n",
       "      <td>35.88379</td>\n",
       "      <td>-5.91636</td>\n",
       "      <td>61e9f41bb937134a3c4c0087</td>\n",
       "      <td>634c4de270937fc01c3a74f3</td>\n",
       "      <td>587.935833</td>\n",
       "    </tr>\n",
       "    <tr>\n",
       "      <th>...</th>\n",
       "      <td>...</td>\n",
       "      <td>...</td>\n",
       "      <td>...</td>\n",
       "      <td>...</td>\n",
       "      <td>...</td>\n",
       "      <td>...</td>\n",
       "      <td>...</td>\n",
       "      <td>...</td>\n",
       "      <td>...</td>\n",
       "      <td>...</td>\n",
       "      <td>...</td>\n",
       "    </tr>\n",
       "    <tr>\n",
       "      <th>1522060</th>\n",
       "      <td>2024-05-07 23:59:07</td>\n",
       "      <td>359.1</td>\n",
       "      <td>13.4</td>\n",
       "      <td>0.0</td>\n",
       "      <td>1.0</td>\n",
       "      <td>Under way using engine</td>\n",
       "      <td>52.19131</td>\n",
       "      <td>-5.82223</td>\n",
       "      <td>clh6aqawa0002gh0zypfa5dut</td>\n",
       "      <td>634c4de270937fc01c3a7417</td>\n",
       "      <td>5.014722</td>\n",
       "    </tr>\n",
       "    <tr>\n",
       "      <th>1522061</th>\n",
       "      <td>2024-05-07 23:59:08</td>\n",
       "      <td>12.3</td>\n",
       "      <td>17.1</td>\n",
       "      <td>0.0</td>\n",
       "      <td>13.0</td>\n",
       "      <td>Under way using engine</td>\n",
       "      <td>38.96142</td>\n",
       "      <td>-12.00502</td>\n",
       "      <td>61e9f3aeb937134a3c4bfe43</td>\n",
       "      <td>634c4de270937fc01c3a76a1</td>\n",
       "      <td>51.014444</td>\n",
       "    </tr>\n",
       "    <tr>\n",
       "      <th>1522062</th>\n",
       "      <td>2024-05-07 23:59:08</td>\n",
       "      <td>269.8</td>\n",
       "      <td>14.9</td>\n",
       "      <td>-1.0</td>\n",
       "      <td>270.0</td>\n",
       "      <td>Under way using engine</td>\n",
       "      <td>49.71372</td>\n",
       "      <td>-5.22042</td>\n",
       "      <td>61e9f43db937134a3c4c0169</td>\n",
       "      <td>634c4de270937fc01c3a787b</td>\n",
       "      <td>191.014444</td>\n",
       "    </tr>\n",
       "    <tr>\n",
       "      <th>1522063</th>\n",
       "      <td>2024-05-07 23:59:08</td>\n",
       "      <td>8.0</td>\n",
       "      <td>18.7</td>\n",
       "      <td>0.0</td>\n",
       "      <td>6.0</td>\n",
       "      <td>Under way using engine</td>\n",
       "      <td>38.27895</td>\n",
       "      <td>10.78280</td>\n",
       "      <td>61e9f469b937134a3c4c029b</td>\n",
       "      <td>61d3781293c6feb83e5eb73b</td>\n",
       "      <td>12.764444</td>\n",
       "    </tr>\n",
       "    <tr>\n",
       "      <th>1522064</th>\n",
       "      <td>2024-05-07 23:59:08</td>\n",
       "      <td>336.0</td>\n",
       "      <td>14.3</td>\n",
       "      <td>5.0</td>\n",
       "      <td>337.0</td>\n",
       "      <td>Under way using engine</td>\n",
       "      <td>38.98635</td>\n",
       "      <td>-75.13275</td>\n",
       "      <td>62080cff66fc0a8e43c6123a</td>\n",
       "      <td>61d38528b7b7526e1adf3e6f</td>\n",
       "      <td>-0.985556</td>\n",
       "    </tr>\n",
       "  </tbody>\n",
       "</table>\n",
       "<p>1522064 rows × 11 columns</p>\n",
       "</div>"
      ],
      "text/plain": [
       "                       time    cog   sog  rot  heading  \\\n",
       "0       2024-01-01 00:00:25  284.0   0.7  0.0     88.0   \n",
       "1       2024-01-01 00:00:36  109.6   0.0 -6.0    347.0   \n",
       "2       2024-01-01 00:01:45  111.0  11.0  0.0    112.0   \n",
       "3       2024-01-01 00:03:11   96.4   0.0  0.0    142.0   \n",
       "4       2024-01-01 00:03:51  214.0  19.7  0.0    215.0   \n",
       "...                     ...    ...   ...  ...      ...   \n",
       "1522060 2024-05-07 23:59:07  359.1  13.4  0.0      1.0   \n",
       "1522061 2024-05-07 23:59:08   12.3  17.1  0.0     13.0   \n",
       "1522062 2024-05-07 23:59:08  269.8  14.9 -1.0    270.0   \n",
       "1522063 2024-05-07 23:59:08    8.0  18.7  0.0      6.0   \n",
       "1522064 2024-05-07 23:59:08  336.0  14.3  5.0    337.0   \n",
       "\n",
       "                        navstat  latitude  longitude  \\\n",
       "0        Under way using engine -34.74370  -57.85130   \n",
       "1                     At anchor   8.89440  -79.47939   \n",
       "2        Under way using engine  39.19065  -76.47567   \n",
       "3                     At anchor -34.41189  151.02067   \n",
       "4        Under way using engine  35.88379   -5.91636   \n",
       "...                         ...       ...        ...   \n",
       "1522060  Under way using engine  52.19131   -5.82223   \n",
       "1522061  Under way using engine  38.96142  -12.00502   \n",
       "1522062  Under way using engine  49.71372   -5.22042   \n",
       "1522063  Under way using engine  38.27895   10.78280   \n",
       "1522064  Under way using engine  38.98635  -75.13275   \n",
       "\n",
       "                          vesselId                    portId    eta_hours  \n",
       "0         61e9f3a8b937134a3c4bfdf7  61d371c43aeaecc07011a37f   214.993056  \n",
       "1         61e9f3d4b937134a3c4bff1f  634c4de270937fc01c3a7689  8731.990000  \n",
       "2         61e9f436b937134a3c4c0131  61d3847bb7b7526e1adf3d19    32.970833  \n",
       "3         61e9f3b4b937134a3c4bfe77  61d36f770a1807568ff9a126  8779.946944  \n",
       "4         61e9f41bb937134a3c4c0087  634c4de270937fc01c3a74f3   587.935833  \n",
       "...                            ...                       ...          ...  \n",
       "1522060  clh6aqawa0002gh0zypfa5dut  634c4de270937fc01c3a7417     5.014722  \n",
       "1522061   61e9f3aeb937134a3c4bfe43  634c4de270937fc01c3a76a1    51.014444  \n",
       "1522062   61e9f43db937134a3c4c0169  634c4de270937fc01c3a787b   191.014444  \n",
       "1522063   61e9f469b937134a3c4c029b  61d3781293c6feb83e5eb73b    12.764444  \n",
       "1522064   62080cff66fc0a8e43c6123a  61d38528b7b7526e1adf3e6f    -0.985556  \n",
       "\n",
       "[1522064 rows x 11 columns]"
      ]
     },
     "execution_count": 40,
     "metadata": {},
     "output_type": "execute_result"
    }
   ],
   "source": [
    "train_data"
   ]
  },
  {
   "cell_type": "code",
   "execution_count": 41,
   "metadata": {},
   "outputs": [
    {
     "data": {
      "text/plain": [
       "time             0\n",
       "cog           5858\n",
       "sog            393\n",
       "rot           5563\n",
       "heading       4895\n",
       "navstat          0\n",
       "latitude         0\n",
       "longitude        0\n",
       "vesselId         0\n",
       "portId        1615\n",
       "eta_hours    15245\n",
       "dtype: int64"
      ]
     },
     "execution_count": 41,
     "metadata": {},
     "output_type": "execute_result"
    }
   ],
   "source": [
    "train_data.isna().sum()"
   ]
  },
  {
   "cell_type": "markdown",
   "metadata": {},
   "source": [
    " **latitude** and  **longitude**"
   ]
  },
  {
   "cell_type": "code",
   "execution_count": 42,
   "metadata": {},
   "outputs": [
    {
     "data": {
      "text/plain": [
       "mean    36.584959\n",
       "std     22.904882\n",
       "min    -47.532870\n",
       "25%     34.516827\n",
       "50%     42.233700\n",
       "75%     51.351970\n",
       "max     70.557200\n",
       "Name: latitude, dtype: float64"
      ]
     },
     "execution_count": 42,
     "metadata": {},
     "output_type": "execute_result"
    }
   ],
   "source": [
    "train_data.latitude.describe()[1:]"
   ]
  },
  {
   "cell_type": "code",
   "execution_count": 43,
   "metadata": {},
   "outputs": [
    {
     "data": {
      "text/plain": [
       "mean     11.536466\n",
       "std      68.715740\n",
       "min    -167.540930\n",
       "25%      -5.212813\n",
       "50%       4.234350\n",
       "75%      18.837195\n",
       "max     178.805380\n",
       "Name: longitude, dtype: float64"
      ]
     },
     "execution_count": 43,
     "metadata": {},
     "output_type": "execute_result"
    }
   ],
   "source": [
    "train_data.longitude.describe()[1:]"
   ]
  },
  {
   "cell_type": "code",
   "execution_count": 44,
   "metadata": {},
   "outputs": [
    {
     "data": {
      "text/html": [
       "<div>\n",
       "<style scoped>\n",
       "    .dataframe tbody tr th:only-of-type {\n",
       "        vertical-align: middle;\n",
       "    }\n",
       "\n",
       "    .dataframe tbody tr th {\n",
       "        vertical-align: top;\n",
       "    }\n",
       "\n",
       "    .dataframe thead th {\n",
       "        text-align: right;\n",
       "    }\n",
       "</style>\n",
       "<table border=\"1\" class=\"dataframe\">\n",
       "  <thead>\n",
       "    <tr style=\"text-align: right;\">\n",
       "      <th></th>\n",
       "      <th>time</th>\n",
       "      <th>cog</th>\n",
       "      <th>sog</th>\n",
       "      <th>rot</th>\n",
       "      <th>heading</th>\n",
       "      <th>navstat</th>\n",
       "      <th>latitude</th>\n",
       "      <th>longitude</th>\n",
       "      <th>vesselId</th>\n",
       "      <th>portId</th>\n",
       "      <th>eta_hours</th>\n",
       "    </tr>\n",
       "  </thead>\n",
       "  <tbody>\n",
       "    <tr>\n",
       "      <th>131115</th>\n",
       "      <td>2024-01-12 14:07:47</td>\n",
       "      <td>308.1</td>\n",
       "      <td>17.1</td>\n",
       "      <td>-6.0</td>\n",
       "      <td>316.0</td>\n",
       "      <td>Under way using engine</td>\n",
       "      <td>7.50361</td>\n",
       "      <td>77.58340</td>\n",
       "      <td>61e9f38eb937134a3c4bfd8b</td>\n",
       "      <td>61d376b393c6feb83e5eb50c</td>\n",
       "      <td>-104.129722</td>\n",
       "    </tr>\n",
       "    <tr>\n",
       "      <th>131279</th>\n",
       "      <td>2024-01-12 14:31:00</td>\n",
       "      <td>307.6</td>\n",
       "      <td>17.3</td>\n",
       "      <td>5.0</td>\n",
       "      <td>313.0</td>\n",
       "      <td>Under way using engine</td>\n",
       "      <td>7.57302</td>\n",
       "      <td>77.49505</td>\n",
       "      <td>61e9f38eb937134a3c4bfd8b</td>\n",
       "      <td>61d376d893c6feb83e5eb546</td>\n",
       "      <td>56.983333</td>\n",
       "    </tr>\n",
       "    <tr>\n",
       "      <th>131514</th>\n",
       "      <td>2024-01-12 14:57:23</td>\n",
       "      <td>306.8</td>\n",
       "      <td>16.9</td>\n",
       "      <td>5.0</td>\n",
       "      <td>312.0</td>\n",
       "      <td>Under way using engine</td>\n",
       "      <td>7.65043</td>\n",
       "      <td>77.39404</td>\n",
       "      <td>61e9f38eb937134a3c4bfd8b</td>\n",
       "      <td>61d376d893c6feb83e5eb546</td>\n",
       "      <td>56.543611</td>\n",
       "    </tr>\n",
       "    <tr>\n",
       "      <th>131696</th>\n",
       "      <td>2024-01-12 15:18:48</td>\n",
       "      <td>307.9</td>\n",
       "      <td>16.9</td>\n",
       "      <td>6.0</td>\n",
       "      <td>313.0</td>\n",
       "      <td>Under way using engine</td>\n",
       "      <td>7.71275</td>\n",
       "      <td>77.31394</td>\n",
       "      <td>61e9f38eb937134a3c4bfd8b</td>\n",
       "      <td>61d376d893c6feb83e5eb546</td>\n",
       "      <td>56.186667</td>\n",
       "    </tr>\n",
       "    <tr>\n",
       "      <th>131885</th>\n",
       "      <td>2024-01-12 15:39:47</td>\n",
       "      <td>307.0</td>\n",
       "      <td>16.3</td>\n",
       "      <td>7.0</td>\n",
       "      <td>313.0</td>\n",
       "      <td>Under way using engine</td>\n",
       "      <td>7.77191</td>\n",
       "      <td>77.23585</td>\n",
       "      <td>61e9f38eb937134a3c4bfd8b</td>\n",
       "      <td>61d376d893c6feb83e5eb546</td>\n",
       "      <td>55.836944</td>\n",
       "    </tr>\n",
       "    <tr>\n",
       "      <th>...</th>\n",
       "      <td>...</td>\n",
       "      <td>...</td>\n",
       "      <td>...</td>\n",
       "      <td>...</td>\n",
       "      <td>...</td>\n",
       "      <td>...</td>\n",
       "      <td>...</td>\n",
       "      <td>...</td>\n",
       "      <td>...</td>\n",
       "      <td>...</td>\n",
       "      <td>...</td>\n",
       "    </tr>\n",
       "    <tr>\n",
       "      <th>1521244</th>\n",
       "      <td>2024-05-07 22:36:16</td>\n",
       "      <td>324.1</td>\n",
       "      <td>13.5</td>\n",
       "      <td>-2.0</td>\n",
       "      <td>325.0</td>\n",
       "      <td>Under way using engine</td>\n",
       "      <td>59.63337</td>\n",
       "      <td>21.43237</td>\n",
       "      <td>clh6aqawa0007gh0z9h6zi9bo</td>\n",
       "      <td>61d373b83aeaecc07011a62b</td>\n",
       "      <td>4.395556</td>\n",
       "    </tr>\n",
       "    <tr>\n",
       "      <th>1521409</th>\n",
       "      <td>2024-05-07 22:57:05</td>\n",
       "      <td>324.2</td>\n",
       "      <td>13.3</td>\n",
       "      <td>-3.0</td>\n",
       "      <td>326.0</td>\n",
       "      <td>Under way using engine</td>\n",
       "      <td>59.69588</td>\n",
       "      <td>21.34225</td>\n",
       "      <td>clh6aqawa0007gh0z9h6zi9bo</td>\n",
       "      <td>61d373b83aeaecc07011a62b</td>\n",
       "      <td>4.048611</td>\n",
       "    </tr>\n",
       "    <tr>\n",
       "      <th>1521625</th>\n",
       "      <td>2024-05-07 23:17:54</td>\n",
       "      <td>356.5</td>\n",
       "      <td>12.2</td>\n",
       "      <td>-1.0</td>\n",
       "      <td>354.0</td>\n",
       "      <td>Under way using engine</td>\n",
       "      <td>59.76388</td>\n",
       "      <td>21.35317</td>\n",
       "      <td>clh6aqawa0007gh0z9h6zi9bo</td>\n",
       "      <td>61d373b83aeaecc07011a62b</td>\n",
       "      <td>3.701667</td>\n",
       "    </tr>\n",
       "    <tr>\n",
       "      <th>1521821</th>\n",
       "      <td>2024-05-07 23:38:13</td>\n",
       "      <td>52.6</td>\n",
       "      <td>17.3</td>\n",
       "      <td>3.0</td>\n",
       "      <td>50.0</td>\n",
       "      <td>Under way using engine</td>\n",
       "      <td>59.83316</td>\n",
       "      <td>21.38489</td>\n",
       "      <td>clh6aqawa0007gh0z9h6zi9bo</td>\n",
       "      <td>61d373b83aeaecc07011a62b</td>\n",
       "      <td>3.363056</td>\n",
       "    </tr>\n",
       "    <tr>\n",
       "      <th>1522014</th>\n",
       "      <td>2024-05-07 23:59:01</td>\n",
       "      <td>53.6</td>\n",
       "      <td>17.7</td>\n",
       "      <td>-1.0</td>\n",
       "      <td>51.0</td>\n",
       "      <td>Under way using engine</td>\n",
       "      <td>59.89167</td>\n",
       "      <td>21.54685</td>\n",
       "      <td>clh6aqawa0007gh0z9h6zi9bo</td>\n",
       "      <td>61d373b83aeaecc07011a62b</td>\n",
       "      <td>3.016389</td>\n",
       "    </tr>\n",
       "  </tbody>\n",
       "</table>\n",
       "<p>1522064 rows × 11 columns</p>\n",
       "</div>"
      ],
      "text/plain": [
       "                       time    cog   sog  rot  heading  \\\n",
       "131115  2024-01-12 14:07:47  308.1  17.1 -6.0    316.0   \n",
       "131279  2024-01-12 14:31:00  307.6  17.3  5.0    313.0   \n",
       "131514  2024-01-12 14:57:23  306.8  16.9  5.0    312.0   \n",
       "131696  2024-01-12 15:18:48  307.9  16.9  6.0    313.0   \n",
       "131885  2024-01-12 15:39:47  307.0  16.3  7.0    313.0   \n",
       "...                     ...    ...   ...  ...      ...   \n",
       "1521244 2024-05-07 22:36:16  324.1  13.5 -2.0    325.0   \n",
       "1521409 2024-05-07 22:57:05  324.2  13.3 -3.0    326.0   \n",
       "1521625 2024-05-07 23:17:54  356.5  12.2 -1.0    354.0   \n",
       "1521821 2024-05-07 23:38:13   52.6  17.3  3.0     50.0   \n",
       "1522014 2024-05-07 23:59:01   53.6  17.7 -1.0     51.0   \n",
       "\n",
       "                        navstat  latitude  longitude  \\\n",
       "131115   Under way using engine   7.50361   77.58340   \n",
       "131279   Under way using engine   7.57302   77.49505   \n",
       "131514   Under way using engine   7.65043   77.39404   \n",
       "131696   Under way using engine   7.71275   77.31394   \n",
       "131885   Under way using engine   7.77191   77.23585   \n",
       "...                         ...       ...        ...   \n",
       "1521244  Under way using engine  59.63337   21.43237   \n",
       "1521409  Under way using engine  59.69588   21.34225   \n",
       "1521625  Under way using engine  59.76388   21.35317   \n",
       "1521821  Under way using engine  59.83316   21.38489   \n",
       "1522014  Under way using engine  59.89167   21.54685   \n",
       "\n",
       "                          vesselId                    portId   eta_hours  \n",
       "131115    61e9f38eb937134a3c4bfd8b  61d376b393c6feb83e5eb50c -104.129722  \n",
       "131279    61e9f38eb937134a3c4bfd8b  61d376d893c6feb83e5eb546   56.983333  \n",
       "131514    61e9f38eb937134a3c4bfd8b  61d376d893c6feb83e5eb546   56.543611  \n",
       "131696    61e9f38eb937134a3c4bfd8b  61d376d893c6feb83e5eb546   56.186667  \n",
       "131885    61e9f38eb937134a3c4bfd8b  61d376d893c6feb83e5eb546   55.836944  \n",
       "...                            ...                       ...         ...  \n",
       "1521244  clh6aqawa0007gh0z9h6zi9bo  61d373b83aeaecc07011a62b    4.395556  \n",
       "1521409  clh6aqawa0007gh0z9h6zi9bo  61d373b83aeaecc07011a62b    4.048611  \n",
       "1521625  clh6aqawa0007gh0z9h6zi9bo  61d373b83aeaecc07011a62b    3.701667  \n",
       "1521821  clh6aqawa0007gh0z9h6zi9bo  61d373b83aeaecc07011a62b    3.363056  \n",
       "1522014  clh6aqawa0007gh0z9h6zi9bo  61d373b83aeaecc07011a62b    3.016389  \n",
       "\n",
       "[1522064 rows x 11 columns]"
      ]
     },
     "execution_count": 44,
     "metadata": {},
     "output_type": "execute_result"
    }
   ],
   "source": [
    "train_data.sort_values(['vesselId', 'time'])"
   ]
  },
  {
   "cell_type": "code",
   "execution_count": 45,
   "metadata": {},
   "outputs": [],
   "source": [
    "train_data.to_csv(os.path.join(config.DATA_DIR, '01-ais/01-data.csv'), index = False)"
   ]
  }
 ],
 "metadata": {
  "kernelspec": {
   "display_name": "env",
   "language": "python",
   "name": "python3"
  },
  "language_info": {
   "codemirror_mode": {
    "name": "ipython",
    "version": 3
   },
   "file_extension": ".py",
   "mimetype": "text/x-python",
   "name": "python",
   "nbconvert_exporter": "python",
   "pygments_lexer": "ipython3",
   "version": "3.9.20"
  }
 },
 "nbformat": 4,
 "nbformat_minor": 2
}
